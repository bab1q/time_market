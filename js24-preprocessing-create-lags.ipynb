{
 "cells": [
  {
   "cell_type": "markdown",
   "id": "10cb1725",
   "metadata": {
    "papermill": {
     "duration": 0.004507,
     "end_time": "2024-10-28T10:50:50.680870",
     "exception": false,
     "start_time": "2024-10-28T10:50:50.676363",
     "status": "completed"
    },
    "tags": []
   },
   "source": [
    "# Libraries"
   ]
  },
  {
   "cell_type": "code",
   "execution_count": 7,
   "id": "f62add46",
   "metadata": {
    "execution": {
     "iopub.execute_input": "2024-10-28T10:50:50.690409Z",
     "iopub.status.busy": "2024-10-28T10:50:50.689985Z",
     "iopub.status.idle": "2024-10-28T10:50:53.445438Z",
     "shell.execute_reply": "2024-10-28T10:50:53.444399Z"
    },
    "papermill": {
     "duration": 2.762986,
     "end_time": "2024-10-28T10:50:53.447975",
     "exception": false,
     "start_time": "2024-10-28T10:50:50.684989",
     "status": "completed"
    },
    "tags": []
   },
   "outputs": [],
   "source": [
    "import pandas as pd\n",
    "import polars as pl\n",
    "import numpy as np\n",
    "import gc\n",
    "from matplotlib import pyplot as plt\n",
    "import matplotlib.cm as cm\n",
    "from sklearn.model_selection import StratifiedGroupKFold"
   ]
  },
  {
   "cell_type": "markdown",
   "id": "d88bbf85",
   "metadata": {
    "papermill": {
     "duration": 0.00385,
     "end_time": "2024-10-28T10:50:53.456099",
     "exception": false,
     "start_time": "2024-10-28T10:50:53.452249",
     "status": "completed"
    },
    "tags": []
   },
   "source": [
    "# Configurations"
   ]
  },
  {
   "cell_type": "code",
   "execution_count": 8,
   "id": "95b20029",
   "metadata": {
    "execution": {
     "iopub.execute_input": "2024-10-28T10:50:53.465769Z",
     "iopub.status.busy": "2024-10-28T10:50:53.465156Z",
     "iopub.status.idle": "2024-10-28T10:50:53.471976Z",
     "shell.execute_reply": "2024-10-28T10:50:53.470759Z"
    },
    "papermill": {
     "duration": 0.014164,
     "end_time": "2024-10-28T10:50:53.474208",
     "exception": false,
     "start_time": "2024-10-28T10:50:53.460044",
     "status": "completed"
    },
    "tags": []
   },
   "outputs": [],
   "source": [
    "class CONFIG:\n",
    "    target_col = \"responder_6\"\n",
    "    lag_cols_original = [\"date_id\", \"symbol_id\"] + [f\"responder_{idx}\" for idx in range(9)]\n",
    "    lag_cols_rename = { f\"responder_{idx}\" : f\"responder_{idx}_lag_1\" for idx in range(9)}\n",
    "    valid_ratio = 0.05\n",
    "    start_dt = 1100"
   ]
  },
  {
   "cell_type": "markdown",
   "id": "ac3b364d",
   "metadata": {
    "papermill": {
     "duration": 0.003748,
     "end_time": "2024-10-28T10:50:53.481903",
     "exception": false,
     "start_time": "2024-10-28T10:50:53.478155",
     "status": "completed"
    },
    "tags": []
   },
   "source": [
    "# Load training data"
   ]
  },
  {
   "cell_type": "code",
   "execution_count": 9,
   "id": "107eaeea",
   "metadata": {
    "execution": {
     "iopub.execute_input": "2024-10-28T10:50:53.491659Z",
     "iopub.status.busy": "2024-10-28T10:50:53.491243Z",
     "iopub.status.idle": "2024-10-28T10:50:53.528349Z",
     "shell.execute_reply": "2024-10-28T10:50:53.527277Z"
    },
    "papermill": {
     "duration": 0.04486,
     "end_time": "2024-10-28T10:50:53.530904",
     "exception": false,
     "start_time": "2024-10-28T10:50:53.486044",
     "status": "completed"
    },
    "tags": []
   },
   "outputs": [],
   "source": [
    "# Use last 2 parquets\n",
    "train = pl.scan_parquet(\n",
    "    f\"/Users/jiazhiyuan/personal_repos/time_market/data/train.parquet\"\n",
    ").select(\n",
    "    pl.int_range(pl.len(), dtype=pl.UInt32).alias(\"id\"),\n",
    "    pl.all(),\n",
    ").with_columns(\n",
    "    (pl.col(CONFIG.target_col)*2).cast(pl.Int32).alias(\"label\"),\n",
    ").filter(\n",
    "    pl.col(\"date_id\").gt(CONFIG.start_dt)\n",
    ")"
   ]
  },
  {
   "cell_type": "markdown",
   "id": "5d6893d5",
   "metadata": {
    "papermill": {
     "duration": 0.003601,
     "end_time": "2024-10-28T10:50:53.538424",
     "exception": false,
     "start_time": "2024-10-28T10:50:53.534823",
     "status": "completed"
    },
    "tags": []
   },
   "source": [
    "# Create Lags data from training data"
   ]
  },
  {
   "cell_type": "code",
   "execution_count": 10,
   "id": "4888f45b",
   "metadata": {
    "execution": {
     "iopub.execute_input": "2024-10-28T10:50:53.547969Z",
     "iopub.status.busy": "2024-10-28T10:50:53.547541Z",
     "iopub.status.idle": "2024-10-28T10:50:53.893220Z",
     "shell.execute_reply": "2024-10-28T10:50:53.892075Z"
    },
    "papermill": {
     "duration": 0.353197,
     "end_time": "2024-10-28T10:50:53.895572",
     "exception": false,
     "start_time": "2024-10-28T10:50:53.542375",
     "status": "completed"
    },
    "tags": []
   },
   "outputs": [
    {
     "data": {
      "text/html": [
       "<i>naive plan: (run <b>LazyFrame.explain(optimized=True)</b> to see the optimized plan)</i>\n",
       "    <p></p>\n",
       "    <div>AGGREGATE<p></p>\t[col(\"responder_0_lag_1\").last(), col(\"responder_1_lag_1\").last(), col(\"responder_2_lag_1\").last(), col(\"responder_3_lag_1\").last(), col(\"responder_4_lag_1\").last(), col(\"responder_5_lag_1\").last(), col(\"responder_6_lag_1\").last(), col(\"responder_7_lag_1\").last(), col(\"responder_8_lag_1\").last()] BY [col(\"date_id\"), col(\"symbol_id\")] FROM<p></p>   WITH_COLUMNS:<p></p>   [[(col(\"date_id\")) + (1)].alias(\"date_id\")] <p></p>    RENAME<p></p>       SELECT [col(\"date_id\"), col(\"symbol_id\"), col(\"responder_0\"), col(\"responder_1\"), col(\"responder_2\"), col(\"responder_3\"), col(\"responder_4\"), col(\"responder_5\"), col(\"responder_6\"), col(\"responder_7\"), col(\"responder_8\")] FROM<p></p>        FILTER [(col(\"date_id\")) > (1100)] FROM<p></p>           WITH_COLUMNS:<p></p>           [[(col(\"responder_6\")) * (2.0)].strict_cast(Int32).alias(\"label\")] <p></p>             SELECT [dyn int: 0.int_range([len()]).alias(\"id\"), col(\"date_id\"), col(\"time_id\"), col(\"symbol_id\"), col(\"weight\"), col(\"feature_00\"), col(\"feature_01\"), col(\"feature_02\"), col(\"feature_03\"), col(\"feature_04\"), col(\"feature_05\"), col(\"feature_06\"), col(\"feature_07\"), col(\"feature_08\"), col(\"feature_09\"), col(\"feature_10\"), col(\"feature_11\"), col(\"feature_12\"), col(\"feature_13\"), col(\"feature_14\"), col(\"feature_15\"), col(\"feature_16\"), col(\"feature_17\"), col(\"feature_18\"), col(\"feature_19\"), col(\"feature_20\"), col(\"feature_21\"), col(\"feature_22\"), col(\"feature_23\"), col(\"feature_24\"), col(\"feature_25\"), col(\"feature_26\"), col(\"feature_27\"), col(\"feature_28\"), col(\"feature_29\"), col(\"feature_30\"), col(\"feature_31\"), col(\"feature_32\"), col(\"feature_33\"), col(\"feature_34\"), col(\"feature_35\"), col(\"feature_36\"), col(\"feature_37\"), col(\"feature_38\"), col(\"feature_39\"), col(\"feature_40\"), col(\"feature_41\"), col(\"feature_42\"), col(\"feature_43\"), col(\"feature_44\"), col(\"feature_45\"), col(\"feature_46\"), col(\"feature_47\"), col(\"feature_48\"), col(\"feature_49\"), col(\"feature_50\"), col(\"feature_51\"), col(\"feature_52\"), col(\"feature_53\"), col(\"feature_54\"), col(\"feature_55\"), col(\"feature_56\"), col(\"feature_57\"), col(\"feature_58\"), col(\"feature_59\"), col(\"feature_60\"), col(\"feature_61\"), col(\"feature_62\"), col(\"feature_63\"), col(\"feature_64\"), col(\"feature_65\"), col(\"feature_66\"), col(\"feature_67\"), col(\"feature_68\"), col(\"feature_69\"), col(\"feature_70\"), col(\"feature_71\"), col(\"feature_72\"), col(\"feature_73\"), col(\"feature_74\"), col(\"feature_75\"), col(\"feature_76\"), col(\"feature_77\"), col(\"feature_78\"), col(\"responder_0\"), col(\"responder_1\"), col(\"responder_2\"), col(\"responder_3\"), col(\"responder_4\"), col(\"responder_5\"), col(\"responder_6\"), col(\"responder_7\"), col(\"responder_8\"), col(\"partition_id\")] FROM<p></p>              Parquet SCAN [/Users/jiazhiyuan/personal_repos/time_market/data/train.parquet/partition_id=0/part-0.parquet, ... 9 other sources]<p></p>              PROJECT */93 COLUMNS</div>"
      ],
      "text/plain": [
       "<LazyFrame at 0x138474410>"
      ]
     },
     "execution_count": 10,
     "metadata": {},
     "output_type": "execute_result"
    }
   ],
   "source": [
    "lags = train.select(pl.col(CONFIG.lag_cols_original))\n",
    "lags = lags.rename(CONFIG.lag_cols_rename)\n",
    "lags = lags.with_columns(\n",
    "    date_id = pl.col('date_id') + 1,  # lagged by 1 day\n",
    "    )\n",
    "lags = lags.group_by([\"date_id\", \"symbol_id\"], maintain_order=True).last()  # pick up last record of previous date\n",
    "lags"
   ]
  },
  {
   "cell_type": "markdown",
   "id": "2114e63c",
   "metadata": {
    "papermill": {
     "duration": 0.003961,
     "end_time": "2024-10-28T10:50:53.904002",
     "exception": false,
     "start_time": "2024-10-28T10:50:53.900041",
     "status": "completed"
    },
    "tags": []
   },
   "source": [
    "# Merge training data and lags data"
   ]
  },
  {
   "cell_type": "code",
   "execution_count": 11,
   "id": "c9be8650",
   "metadata": {
    "execution": {
     "iopub.execute_input": "2024-10-28T10:50:53.915910Z",
     "iopub.status.busy": "2024-10-28T10:50:53.915156Z",
     "iopub.status.idle": "2024-10-28T10:50:53.945165Z",
     "shell.execute_reply": "2024-10-28T10:50:53.944004Z"
    },
    "papermill": {
     "duration": 0.038525,
     "end_time": "2024-10-28T10:50:53.947807",
     "exception": false,
     "start_time": "2024-10-28T10:50:53.909282",
     "status": "completed"
    },
    "tags": []
   },
   "outputs": [
    {
     "data": {
      "text/html": [
       "<i>naive plan: (run <b>LazyFrame.explain(optimized=True)</b> to see the optimized plan)</i>\n",
       "    <p></p>\n",
       "    <div>LEFT JOIN:<p></p>LEFT PLAN ON: [col(\"date_id\"), col(\"symbol_id\")]<p></p>  FILTER [(col(\"date_id\")) > (1100)] FROM<p></p>     WITH_COLUMNS:<p></p>     [[(col(\"responder_6\")) * (2.0)].strict_cast(Int32).alias(\"label\")] <p></p>       SELECT [dyn int: 0.int_range([len()]).alias(\"id\"), col(\"date_id\"), col(\"time_id\"), col(\"symbol_id\"), col(\"weight\"), col(\"feature_00\"), col(\"feature_01\"), col(\"feature_02\"), col(\"feature_03\"), col(\"feature_04\"), col(\"feature_05\"), col(\"feature_06\"), col(\"feature_07\"), col(\"feature_08\"), col(\"feature_09\"), col(\"feature_10\"), col(\"feature_11\"), col(\"feature_12\"), col(\"feature_13\"), col(\"feature_14\"), col(\"feature_15\"), col(\"feature_16\"), col(\"feature_17\"), col(\"feature_18\"), col(\"feature_19\"), col(\"feature_20\"), col(\"feature_21\"), col(\"feature_22\"), col(\"feature_23\"), col(\"feature_24\"), col(\"feature_25\"), col(\"feature_26\"), col(\"feature_27\"), col(\"feature_28\"), col(\"feature_29\"), col(\"feature_30\"), col(\"feature_31\"), col(\"feature_32\"), col(\"feature_33\"), col(\"feature_34\"), col(\"feature_35\"), col(\"feature_36\"), col(\"feature_37\"), col(\"feature_38\"), col(\"feature_39\"), col(\"feature_40\"), col(\"feature_41\"), col(\"feature_42\"), col(\"feature_43\"), col(\"feature_44\"), col(\"feature_45\"), col(\"feature_46\"), col(\"feature_47\"), col(\"feature_48\"), col(\"feature_49\"), col(\"feature_50\"), col(\"feature_51\"), col(\"feature_52\"), col(\"feature_53\"), col(\"feature_54\"), col(\"feature_55\"), col(\"feature_56\"), col(\"feature_57\"), col(\"feature_58\"), col(\"feature_59\"), col(\"feature_60\"), col(\"feature_61\"), col(\"feature_62\"), col(\"feature_63\"), col(\"feature_64\"), col(\"feature_65\"), col(\"feature_66\"), col(\"feature_67\"), col(\"feature_68\"), col(\"feature_69\"), col(\"feature_70\"), col(\"feature_71\"), col(\"feature_72\"), col(\"feature_73\"), col(\"feature_74\"), col(\"feature_75\"), col(\"feature_76\"), col(\"feature_77\"), col(\"feature_78\"), col(\"responder_0\"), col(\"responder_1\"), col(\"responder_2\"), col(\"responder_3\"), col(\"responder_4\"), col(\"responder_5\"), col(\"responder_6\"), col(\"responder_7\"), col(\"responder_8\"), col(\"partition_id\")] FROM<p></p>        Parquet SCAN [/Users/jiazhiyuan/personal_repos/time_market/data/train.parquet/partition_id=0/part-0.parquet, ... 9 other sources]<p></p>        PROJECT */93 COLUMNS<p></p>RIGHT PLAN ON: [col(\"date_id\"), col(\"symbol_id\")]<p></p>  AGGREGATE<p></p>  \t[col(\"responder_0_lag_1\").last(), col(\"responder_1_lag_1\").last(), col(\"responder_2_lag_1\").last(), col(\"responder_3_lag_1\").last(), col(\"responder_4_lag_1\").last(), col(\"responder_5_lag_1\").last(), col(\"responder_6_lag_1\").last(), col(\"responder_7_lag_1\").last(), col(\"responder_8_lag_1\").last()] BY [col(\"date_id\"), col(\"symbol_id\")] FROM<p></p>     WITH_COLUMNS:<p></p>     [[(col(\"date_id\")) + (1)].alias(\"date_id\")] <p></p>      RENAME<p></p>         SELECT [col(\"date_id\"), col(\"symbol_id\"), col(\"responder_0\"), col(\"responder_1\"), col(\"responder_2\"), col(\"responder_3\"), col(\"responder_4\"), col(\"responder_5\"), col(\"responder_6\"), col(\"responder_7\"), col(\"responder_8\")] FROM<p></p>          FILTER [(col(\"date_id\")) > (1100)] FROM<p></p>             WITH_COLUMNS:<p></p>             [[(col(\"responder_6\")) * (2.0)].strict_cast(Int32).alias(\"label\")] <p></p>               SELECT [dyn int: 0.int_range([len()]).alias(\"id\"), col(\"date_id\"), col(\"time_id\"), col(\"symbol_id\"), col(\"weight\"), col(\"feature_00\"), col(\"feature_01\"), col(\"feature_02\"), col(\"feature_03\"), col(\"feature_04\"), col(\"feature_05\"), col(\"feature_06\"), col(\"feature_07\"), col(\"feature_08\"), col(\"feature_09\"), col(\"feature_10\"), col(\"feature_11\"), col(\"feature_12\"), col(\"feature_13\"), col(\"feature_14\"), col(\"feature_15\"), col(\"feature_16\"), col(\"feature_17\"), col(\"feature_18\"), col(\"feature_19\"), col(\"feature_20\"), col(\"feature_21\"), col(\"feature_22\"), col(\"feature_23\"), col(\"feature_24\"), col(\"feature_25\"), col(\"feature_26\"), col(\"feature_27\"), col(\"feature_28\"), col(\"feature_29\"), col(\"feature_30\"), col(\"feature_31\"), col(\"feature_32\"), col(\"feature_33\"), col(\"feature_34\"), col(\"feature_35\"), col(\"feature_36\"), col(\"feature_37\"), col(\"feature_38\"), col(\"feature_39\"), col(\"feature_40\"), col(\"feature_41\"), col(\"feature_42\"), col(\"feature_43\"), col(\"feature_44\"), col(\"feature_45\"), col(\"feature_46\"), col(\"feature_47\"), col(\"feature_48\"), col(\"feature_49\"), col(\"feature_50\"), col(\"feature_51\"), col(\"feature_52\"), col(\"feature_53\"), col(\"feature_54\"), col(\"feature_55\"), col(\"feature_56\"), col(\"feature_57\"), col(\"feature_58\"), col(\"feature_59\"), col(\"feature_60\"), col(\"feature_61\"), col(\"feature_62\"), col(\"feature_63\"), col(\"feature_64\"), col(\"feature_65\"), col(\"feature_66\"), col(\"feature_67\"), col(\"feature_68\"), col(\"feature_69\"), col(\"feature_70\"), col(\"feature_71\"), col(\"feature_72\"), col(\"feature_73\"), col(\"feature_74\"), col(\"feature_75\"), col(\"feature_76\"), col(\"feature_77\"), col(\"feature_78\"), col(\"responder_0\"), col(\"responder_1\"), col(\"responder_2\"), col(\"responder_3\"), col(\"responder_4\"), col(\"responder_5\"), col(\"responder_6\"), col(\"responder_7\"), col(\"responder_8\"), col(\"partition_id\")] FROM<p></p>                Parquet SCAN [/Users/jiazhiyuan/personal_repos/time_market/data/train.parquet/partition_id=0/part-0.parquet, ... 9 other sources]<p></p>                PROJECT */93 COLUMNS<p></p>END LEFT JOIN</div>"
      ],
      "text/plain": [
       "<LazyFrame at 0x1135774A0>"
      ]
     },
     "execution_count": 11,
     "metadata": {},
     "output_type": "execute_result"
    }
   ],
   "source": [
    "train = train.join(lags, on=[\"date_id\", \"symbol_id\"],  how=\"left\")\n",
    "train"
   ]
  },
  {
   "cell_type": "markdown",
   "id": "1f54a3c1",
   "metadata": {
    "papermill": {
     "duration": 0.004368,
     "end_time": "2024-10-28T10:50:53.957063",
     "exception": false,
     "start_time": "2024-10-28T10:50:53.952695",
     "status": "completed"
    },
    "tags": []
   },
   "source": [
    "# Split training data and validation data"
   ]
  },
  {
   "cell_type": "code",
   "execution_count": 12,
   "id": "c37b5d81",
   "metadata": {
    "execution": {
     "iopub.execute_input": "2024-10-28T10:50:53.968024Z",
     "iopub.status.busy": "2024-10-28T10:50:53.967611Z",
     "iopub.status.idle": "2024-10-28T10:50:57.287742Z",
     "shell.execute_reply": "2024-10-28T10:50:57.286619Z"
    },
    "papermill": {
     "duration": 3.328535,
     "end_time": "2024-10-28T10:50:57.290290",
     "exception": false,
     "start_time": "2024-10-28T10:50:53.961755",
     "status": "completed"
    },
    "tags": []
   },
   "outputs": [
    {
     "name": "stdout",
     "output_type": "stream",
     "text": [
      "\n",
      " len_train = 22104280\n",
      "\n",
      " len_ofl_mdl = 20999066\n",
      "\n",
      "---> Last offline train date = 1669\n",
      "\n"
     ]
    }
   ],
   "source": [
    "len_train   = train.select(pl.col(\"date_id\")).collect().shape[0]\n",
    "valid_records = int(len_train * CONFIG.valid_ratio)\n",
    "len_ofl_mdl = len_train - valid_records\n",
    "last_tr_dt  = train.select(pl.col(\"date_id\")).collect().row(len_ofl_mdl)[0]\n",
    "\n",
    "print(f\"\\n len_train = {len_train}\")\n",
    "print(f\"\\n len_ofl_mdl = {len_ofl_mdl}\")\n",
    "print(f\"\\n---> Last offline train date = {last_tr_dt}\\n\")\n",
    "\n",
    "training_data = train.filter(pl.col(\"date_id\").le(last_tr_dt))\n",
    "validation_data   = train.filter(pl.col(\"date_id\").gt(last_tr_dt))"
   ]
  },
  {
   "cell_type": "code",
   "execution_count": 13,
   "id": "7167d6fa",
   "metadata": {
    "execution": {
     "iopub.execute_input": "2024-10-28T10:50:57.302538Z",
     "iopub.status.busy": "2024-10-28T10:50:57.301604Z",
     "iopub.status.idle": "2024-10-28T10:50:57.328330Z",
     "shell.execute_reply": "2024-10-28T10:50:57.327276Z"
    },
    "papermill": {
     "duration": 0.035098,
     "end_time": "2024-10-28T10:50:57.330787",
     "exception": false,
     "start_time": "2024-10-28T10:50:57.295689",
     "status": "completed"
    },
    "tags": []
   },
   "outputs": [
    {
     "data": {
      "text/html": [
       "<i>naive plan: (run <b>LazyFrame.explain(optimized=True)</b> to see the optimized plan)</i>\n",
       "    <p></p>\n",
       "    <div>FILTER [(col(\"date_id\")) > (1669)] FROM<p></p>  LEFT JOIN:<p></p>  LEFT PLAN ON: [col(\"date_id\"), col(\"symbol_id\")]<p></p>    FILTER [(col(\"date_id\")) > (1100)] FROM<p></p>       WITH_COLUMNS:<p></p>       [[(col(\"responder_6\")) * (2.0)].strict_cast(Int32).alias(\"label\")] <p></p>         SELECT [dyn int: 0.int_range([len()]).alias(\"id\"), col(\"date_id\"), col(\"time_id\"), col(\"symbol_id\"), col(\"weight\"), col(\"feature_00\"), col(\"feature_01\"), col(\"feature_02\"), col(\"feature_03\"), col(\"feature_04\"), col(\"feature_05\"), col(\"feature_06\"), col(\"feature_07\"), col(\"feature_08\"), col(\"feature_09\"), col(\"feature_10\"), col(\"feature_11\"), col(\"feature_12\"), col(\"feature_13\"), col(\"feature_14\"), col(\"feature_15\"), col(\"feature_16\"), col(\"feature_17\"), col(\"feature_18\"), col(\"feature_19\"), col(\"feature_20\"), col(\"feature_21\"), col(\"feature_22\"), col(\"feature_23\"), col(\"feature_24\"), col(\"feature_25\"), col(\"feature_26\"), col(\"feature_27\"), col(\"feature_28\"), col(\"feature_29\"), col(\"feature_30\"), col(\"feature_31\"), col(\"feature_32\"), col(\"feature_33\"), col(\"feature_34\"), col(\"feature_35\"), col(\"feature_36\"), col(\"feature_37\"), col(\"feature_38\"), col(\"feature_39\"), col(\"feature_40\"), col(\"feature_41\"), col(\"feature_42\"), col(\"feature_43\"), col(\"feature_44\"), col(\"feature_45\"), col(\"feature_46\"), col(\"feature_47\"), col(\"feature_48\"), col(\"feature_49\"), col(\"feature_50\"), col(\"feature_51\"), col(\"feature_52\"), col(\"feature_53\"), col(\"feature_54\"), col(\"feature_55\"), col(\"feature_56\"), col(\"feature_57\"), col(\"feature_58\"), col(\"feature_59\"), col(\"feature_60\"), col(\"feature_61\"), col(\"feature_62\"), col(\"feature_63\"), col(\"feature_64\"), col(\"feature_65\"), col(\"feature_66\"), col(\"feature_67\"), col(\"feature_68\"), col(\"feature_69\"), col(\"feature_70\"), col(\"feature_71\"), col(\"feature_72\"), col(\"feature_73\"), col(\"feature_74\"), col(\"feature_75\"), col(\"feature_76\"), col(\"feature_77\"), col(\"feature_78\"), col(\"responder_0\"), col(\"responder_1\"), col(\"responder_2\"), col(\"responder_3\"), col(\"responder_4\"), col(\"responder_5\"), col(\"responder_6\"), col(\"responder_7\"), col(\"responder_8\"), col(\"partition_id\")] FROM<p></p>          Parquet SCAN [/Users/jiazhiyuan/personal_repos/time_market/data/train.parquet/partition_id=0/part-0.parquet, ... 9 other sources]<p></p>          PROJECT */93 COLUMNS<p></p>  RIGHT PLAN ON: [col(\"date_id\"), col(\"symbol_id\")]<p></p>    AGGREGATE<p></p>    \t[col(\"responder_0_lag_1\").last(), col(\"responder_1_lag_1\").last(), col(\"responder_2_lag_1\").last(), col(\"responder_3_lag_1\").last(), col(\"responder_4_lag_1\").last(), col(\"responder_5_lag_1\").last(), col(\"responder_6_lag_1\").last(), col(\"responder_7_lag_1\").last(), col(\"responder_8_lag_1\").last()] BY [col(\"date_id\"), col(\"symbol_id\")] FROM<p></p>       WITH_COLUMNS:<p></p>       [[(col(\"date_id\")) + (1)].alias(\"date_id\")] <p></p>        RENAME<p></p>           SELECT [col(\"date_id\"), col(\"symbol_id\"), col(\"responder_0\"), col(\"responder_1\"), col(\"responder_2\"), col(\"responder_3\"), col(\"responder_4\"), col(\"responder_5\"), col(\"responder_6\"), col(\"responder_7\"), col(\"responder_8\")] FROM<p></p>            FILTER [(col(\"date_id\")) > (1100)] FROM<p></p>               WITH_COLUMNS:<p></p>               [[(col(\"responder_6\")) * (2.0)].strict_cast(Int32).alias(\"label\")] <p></p>                 SELECT [dyn int: 0.int_range([len()]).alias(\"id\"), col(\"date_id\"), col(\"time_id\"), col(\"symbol_id\"), col(\"weight\"), col(\"feature_00\"), col(\"feature_01\"), col(\"feature_02\"), col(\"feature_03\"), col(\"feature_04\"), col(\"feature_05\"), col(\"feature_06\"), col(\"feature_07\"), col(\"feature_08\"), col(\"feature_09\"), col(\"feature_10\"), col(\"feature_11\"), col(\"feature_12\"), col(\"feature_13\"), col(\"feature_14\"), col(\"feature_15\"), col(\"feature_16\"), col(\"feature_17\"), col(\"feature_18\"), col(\"feature_19\"), col(\"feature_20\"), col(\"feature_21\"), col(\"feature_22\"), col(\"feature_23\"), col(\"feature_24\"), col(\"feature_25\"), col(\"feature_26\"), col(\"feature_27\"), col(\"feature_28\"), col(\"feature_29\"), col(\"feature_30\"), col(\"feature_31\"), col(\"feature_32\"), col(\"feature_33\"), col(\"feature_34\"), col(\"feature_35\"), col(\"feature_36\"), col(\"feature_37\"), col(\"feature_38\"), col(\"feature_39\"), col(\"feature_40\"), col(\"feature_41\"), col(\"feature_42\"), col(\"feature_43\"), col(\"feature_44\"), col(\"feature_45\"), col(\"feature_46\"), col(\"feature_47\"), col(\"feature_48\"), col(\"feature_49\"), col(\"feature_50\"), col(\"feature_51\"), col(\"feature_52\"), col(\"feature_53\"), col(\"feature_54\"), col(\"feature_55\"), col(\"feature_56\"), col(\"feature_57\"), col(\"feature_58\"), col(\"feature_59\"), col(\"feature_60\"), col(\"feature_61\"), col(\"feature_62\"), col(\"feature_63\"), col(\"feature_64\"), col(\"feature_65\"), col(\"feature_66\"), col(\"feature_67\"), col(\"feature_68\"), col(\"feature_69\"), col(\"feature_70\"), col(\"feature_71\"), col(\"feature_72\"), col(\"feature_73\"), col(\"feature_74\"), col(\"feature_75\"), col(\"feature_76\"), col(\"feature_77\"), col(\"feature_78\"), col(\"responder_0\"), col(\"responder_1\"), col(\"responder_2\"), col(\"responder_3\"), col(\"responder_4\"), col(\"responder_5\"), col(\"responder_6\"), col(\"responder_7\"), col(\"responder_8\"), col(\"partition_id\")] FROM<p></p>                  Parquet SCAN [/Users/jiazhiyuan/personal_repos/time_market/data/train.parquet/partition_id=0/part-0.parquet, ... 9 other sources]<p></p>                  PROJECT */93 COLUMNS<p></p>  END LEFT JOIN</div>"
      ],
      "text/plain": [
       "<LazyFrame at 0x138474050>"
      ]
     },
     "execution_count": 13,
     "metadata": {},
     "output_type": "execute_result"
    }
   ],
   "source": [
    "validation_data"
   ]
  },
  {
   "cell_type": "markdown",
   "id": "81fe7c1e",
   "metadata": {
    "papermill": {
     "duration": 0.004758,
     "end_time": "2024-10-28T10:50:57.340849",
     "exception": false,
     "start_time": "2024-10-28T10:50:57.336091",
     "status": "completed"
    },
    "tags": []
   },
   "source": [
    "# Save data as parquets"
   ]
  },
  {
   "cell_type": "code",
   "execution_count": 14,
   "id": "6c7b24f5",
   "metadata": {
    "execution": {
     "iopub.execute_input": "2024-10-28T10:50:57.352891Z",
     "iopub.status.busy": "2024-10-28T10:50:57.352024Z",
     "iopub.status.idle": "2024-10-28T10:52:19.675611Z",
     "shell.execute_reply": "2024-10-28T10:52:19.674557Z"
    },
    "papermill": {
     "duration": 82.332599,
     "end_time": "2024-10-28T10:52:19.678428",
     "exception": false,
     "start_time": "2024-10-28T10:50:57.345829",
     "status": "completed"
    },
    "tags": []
   },
   "outputs": [],
   "source": [
    "training_data.collect().\\\n",
    "write_parquet(\n",
    "    f\"training.parquet\", partition_by = \"date_id\",\n",
    ")"
   ]
  },
  {
   "cell_type": "code",
   "execution_count": 15,
   "id": "8dacc686",
   "metadata": {
    "execution": {
     "iopub.execute_input": "2024-10-28T10:52:19.691137Z",
     "iopub.status.busy": "2024-10-28T10:52:19.690690Z",
     "iopub.status.idle": "2024-10-28T10:53:09.731770Z",
     "shell.execute_reply": "2024-10-28T10:53:09.730583Z"
    },
    "papermill": {
     "duration": 50.050795,
     "end_time": "2024-10-28T10:53:09.735054",
     "exception": false,
     "start_time": "2024-10-28T10:52:19.684259",
     "status": "completed"
    },
    "tags": []
   },
   "outputs": [],
   "source": [
    "validation_data.collect().\\\n",
    "write_parquet(\n",
    "    \"validation.parquet\", partition_by = \"date_id\",\n",
    ")"
   ]
  },
  {
   "cell_type": "code",
   "execution_count": 16,
   "id": "0488e601",
   "metadata": {},
   "outputs": [],
   "source": [
    "train.collect().write_parquet(\"train.parquet.bySymbolId\", partition_by=\"symbol_id\")"
   ]
  },
  {
   "cell_type": "code",
   "execution_count": 17,
   "id": "82d1998b",
   "metadata": {},
   "outputs": [
    {
     "name": "stdout",
     "output_type": "stream",
     "text": [
      "<class 'pandas.core.frame.DataFrame'>\n",
      "RangeIndex: 562408 entries, 0 to 562407\n",
      "Columns: 104 entries, id to responder_8_lag_1\n",
      "dtypes: float32(95), int16(3), int32(1), int64(1), int8(3), uint32(1)\n",
      "memory usage: 217.2 MB\n"
     ]
    }
   ],
   "source": [
    "symbol_0 = pd.read_parquet(\"/Users/jiazhiyuan/personal_repos/time_market/train.parquet.bySymbolId/symbol_id=0/00000000.parquet\")\n",
    "symbol_0.info()"
   ]
  },
  {
   "cell_type": "code",
   "execution_count": 25,
   "id": "80f59c42",
   "metadata": {},
   "outputs": [
    {
     "data": {
      "text/plain": [
       "array([  0,   1,   2,   3,   4,   5,   6,   7,   8,   9,  10,  11,  12,\n",
       "        13,  14,  15,  16,  17,  18,  19,  20,  21,  22,  23,  24,  25,\n",
       "        26,  27,  28,  29,  30,  31,  32,  33,  34,  35,  36,  37,  38,\n",
       "        39,  40,  41,  42,  43,  44,  45,  46,  47,  48,  49,  50,  51,\n",
       "        52,  53,  54,  55,  56,  57,  58,  59,  60,  61,  62,  63,  64,\n",
       "        65,  66,  67,  68,  69,  70,  71,  72,  73,  74,  75,  76,  77,\n",
       "        78,  79,  80,  81,  82,  83,  84,  85,  86,  87,  88,  89,  90,\n",
       "        91,  92,  93,  94,  95,  96,  97,  98,  99, 100, 101, 102, 103,\n",
       "       104, 105, 106, 107, 108, 109, 110, 111, 112, 113, 114, 115, 116,\n",
       "       117, 118, 119, 120, 121, 122, 123, 124, 125, 126, 127, 128, 129,\n",
       "       130, 131, 132, 133, 134, 135, 136, 137, 138, 139, 140, 141, 142,\n",
       "       143, 144, 145, 146, 147, 148, 149, 150, 151, 152, 153, 154, 155,\n",
       "       156, 157, 158, 159, 160, 161, 162, 163, 164, 165, 166, 167, 168,\n",
       "       169, 170, 171, 172, 173, 174, 175, 176, 177, 178, 179, 180, 181,\n",
       "       182, 183, 184, 185, 186, 187, 188, 189, 190, 191, 192, 193, 194,\n",
       "       195, 196, 197, 198, 199, 200, 201, 202, 203, 204, 205, 206, 207,\n",
       "       208, 209, 210, 211, 212, 213, 214, 215, 216, 217, 218, 219, 220,\n",
       "       221, 222, 223, 224, 225, 226, 227, 228, 229, 230, 231, 232, 233,\n",
       "       234, 235, 236, 237, 238, 239, 240, 241, 242, 243, 244, 245, 246,\n",
       "       247, 248, 249, 250, 251, 252, 253, 254, 255, 256, 257, 258, 259,\n",
       "       260, 261, 262, 263, 264, 265, 266, 267, 268, 269, 270, 271, 272,\n",
       "       273, 274, 275, 276, 277, 278, 279, 280, 281, 282, 283, 284, 285,\n",
       "       286, 287, 288, 289, 290, 291, 292, 293, 294, 295, 296, 297, 298,\n",
       "       299, 300, 301, 302, 303, 304, 305, 306, 307, 308, 309, 310, 311,\n",
       "       312, 313, 314, 315, 316, 317, 318, 319, 320, 321, 322, 323, 324,\n",
       "       325, 326, 327, 328, 329, 330, 331, 332, 333, 334, 335, 336, 337,\n",
       "       338, 339, 340, 341, 342, 343, 344, 345, 346, 347, 348, 349, 350,\n",
       "       351, 352, 353, 354, 355, 356, 357, 358, 359, 360, 361, 362, 363,\n",
       "       364, 365, 366, 367, 368, 369, 370, 371, 372, 373, 374, 375, 376,\n",
       "       377, 378, 379, 380, 381, 382, 383, 384, 385, 386, 387, 388, 389,\n",
       "       390, 391, 392, 393, 394, 395, 396, 397, 398, 399, 400, 401, 402,\n",
       "       403, 404, 405, 406, 407, 408, 409, 410, 411, 412, 413, 414, 415,\n",
       "       416, 417, 418, 419, 420, 421, 422, 423, 424, 425, 426, 427, 428,\n",
       "       429, 430, 431, 432, 433, 434, 435, 436, 437, 438, 439, 440, 441,\n",
       "       442, 443, 444, 445, 446, 447, 448, 449, 450, 451, 452, 453, 454,\n",
       "       455, 456, 457, 458, 459, 460, 461, 462, 463, 464, 465, 466, 467,\n",
       "       468, 469, 470, 471, 472, 473, 474, 475, 476, 477, 478, 479, 480,\n",
       "       481, 482, 483, 484, 485, 486, 487, 488, 489, 490, 491, 492, 493,\n",
       "       494, 495, 496, 497, 498, 499, 500, 501, 502, 503, 504, 505, 506,\n",
       "       507, 508, 509, 510, 511, 512, 513, 514, 515, 516, 517, 518, 519,\n",
       "       520, 521, 522, 523, 524, 525, 526, 527, 528, 529, 530, 531, 532,\n",
       "       533, 534, 535, 536, 537, 538, 539, 540, 541, 542, 543, 544, 545,\n",
       "       546, 547, 548, 549, 550, 551, 552, 553, 554, 555, 556, 557, 558,\n",
       "       559, 560, 561, 562, 563, 564, 565, 566, 567, 568, 569, 570, 571,\n",
       "       572, 573, 574, 575, 576, 577, 578, 579, 580, 581, 582, 583, 584,\n",
       "       585, 586, 587, 588, 589, 590, 591, 592, 593, 594, 595, 596, 597,\n",
       "       598, 599, 600, 601, 602, 603, 604, 605, 606, 607, 608, 609, 610,\n",
       "       611, 612, 613, 614, 615, 616, 617, 618, 619, 620, 621, 622, 623,\n",
       "       624, 625, 626, 627, 628, 629, 630, 631, 632, 633, 634, 635, 636,\n",
       "       637, 638, 639, 640, 641, 642, 643, 644, 645, 646, 647, 648, 649,\n",
       "       650, 651, 652, 653, 654, 655, 656, 657, 658, 659, 660, 661, 662,\n",
       "       663, 664, 665, 666, 667, 668, 669, 670, 671, 672, 673, 674, 675,\n",
       "       676, 677, 678, 679, 680, 681, 682, 683, 684, 685, 686, 687, 688,\n",
       "       689, 690, 691, 692, 693, 694, 695, 696, 697, 698, 699, 700, 701,\n",
       "       702, 703, 704, 705, 706, 707, 708, 709, 710, 711, 712, 713, 714,\n",
       "       715, 716, 717, 718, 719, 720, 721, 722, 723, 724, 725, 726, 727,\n",
       "       728, 729, 730, 731, 732, 733, 734, 735, 736, 737, 738, 739, 740,\n",
       "       741, 742, 743, 744, 745, 746, 747, 748, 749, 750, 751, 752, 753,\n",
       "       754, 755, 756, 757, 758, 759, 760, 761, 762, 763, 764, 765, 766,\n",
       "       767, 768, 769, 770, 771, 772, 773, 774, 775, 776, 777, 778, 779,\n",
       "       780, 781, 782, 783, 784, 785, 786, 787, 788, 789, 790, 791, 792,\n",
       "       793, 794, 795, 796, 797, 798, 799, 800, 801, 802, 803, 804, 805,\n",
       "       806, 807, 808, 809, 810, 811, 812, 813, 814, 815, 816, 817, 818,\n",
       "       819, 820, 821, 822, 823, 824, 825, 826, 827, 828, 829, 830, 831,\n",
       "       832, 833, 834, 835, 836, 837, 838, 839, 840, 841, 842, 843, 844,\n",
       "       845, 846, 847, 848, 849, 850, 851, 852, 853, 854, 855, 856, 857,\n",
       "       858, 859, 860, 861, 862, 863, 864, 865, 866, 867, 868, 869, 870,\n",
       "       871, 872, 873, 874, 875, 876, 877, 878, 879, 880, 881, 882, 883,\n",
       "       884, 885, 886, 887, 888, 889, 890, 891, 892, 893, 894, 895, 896,\n",
       "       897, 898, 899, 900, 901, 902, 903, 904, 905, 906, 907, 908, 909,\n",
       "       910, 911, 912, 913, 914, 915, 916, 917, 918, 919, 920, 921, 922,\n",
       "       923, 924, 925, 926, 927, 928, 929, 930, 931, 932, 933, 934, 935,\n",
       "       936, 937, 938, 939, 940, 941, 942, 943, 944, 945, 946, 947, 948,\n",
       "       949, 950, 951, 952, 953, 954, 955, 956, 957, 958, 959, 960, 961,\n",
       "       962, 963, 964, 965, 966, 967], dtype=int16)"
      ]
     },
     "execution_count": 25,
     "metadata": {},
     "output_type": "execute_result"
    }
   ],
   "source": [
    "symbol_0['time_id'].unique()"
   ]
  },
  {
   "cell_type": "code",
   "execution_count": 28,
   "id": "2d91de03",
   "metadata": {},
   "outputs": [],
   "source": [
    "symbol_0_dates = symbol_0.loc[symbol_0[['date_id', 'responder_6', 'time_id']].groupby('date_id')[\"time_id\"].idxmax()]"
   ]
  },
  {
   "cell_type": "code",
   "execution_count": 29,
   "id": "98cdff9b",
   "metadata": {},
   "outputs": [
    {
     "data": {
      "image/png": "[encoded data removed]",
      "text/plain": [
       "<Figure size 640x480 with 1 Axes>"
      ]
     },
     "metadata": {},
     "output_type": "display_data"
    }
   ],
   "source": [
    "from matplotlib import pyplot as plt\n",
    "plt.plot(symbol_0_dates['date_id'],symbol_0_dates['responder_6'])\n",
    "plt.show()"
   ]
  }
 ],
 "metadata": {
  "kaggle": {
   "accelerator": "none",
   "dataSources": [
    {
     "databundleVersionId": 9871156,
     "sourceId": 84493,
     "sourceType": "competition"
    }
   ],
   "dockerImageVersionId": 30786,
   "isGpuEnabled": false,
   "isInternetEnabled": true,
   "language": "python",
   "sourceType": "notebook"
  },
  "kernelspec": {
   "display_name": "base",
   "language": "python",
   "name": "python3"
  },
  "language_info": {
   "codemirror_mode": {
    "name": "ipython",
    "version": 3
   },
   "file_extension": ".py",
   "mimetype": "text/x-python",
   "name": "python",
   "nbconvert_exporter": "python",
   "pygments_lexer": "ipython3",
   "version": "3.12.2"
  },
  "papermill": {
   "default_parameters": {},
   "duration": 144.544038,
   "end_time": "2024-10-28T10:53:12.391324",
   "environment_variables": {},
   "exception": null,
   "input_path": "__notebook__.ipynb",
   "output_path": "__notebook__.ipynb",
   "parameters": {},
   "start_time": "2024-10-28T10:50:47.847286",
   "version": "2.6.0"
  }
 },
 "nbformat": 4,
 "nbformat_minor": 5
}
